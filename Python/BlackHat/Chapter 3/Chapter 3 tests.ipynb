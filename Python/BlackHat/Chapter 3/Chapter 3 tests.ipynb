{
 "cells": [
  {
   "cell_type": "code",
   "execution_count": 2,
   "id": "ac52e51a",
   "metadata": {},
   "outputs": [],
   "source": [
    "from ctypes import *\n",
    "import socket\n",
    "import struct"
   ]
  },
  {
   "cell_type": "code",
   "execution_count": 3,
   "id": "93dd2986",
   "metadata": {},
   "outputs": [],
   "source": [
    "class IP(Structure):\n",
    "    _fields_ = [\n",
    "        (\"ihl\", c_ubyte, 4), # 4 bit unsigned char\n",
    "        (\"version\", c_ubyte, 4), # 4 bit unsigned char\n",
    "        (\"tos\", c_ubyte, 8), # 1 byte char\n",
    "        (\"len\", c_ushort, 16), # 2 byte unsigned short\n",
    "     (\"id\", c_ushort, 16), # 2 byte unsigned short\n",
    "     (\"offset\", c_ushort, 16), # 2 byte unsigned short\n",
    "     (\"ttl\", c_ubyte, 8), # 1 byte char\n",
    "     (\"protocol_num\", c_ubyte, 8), # 1 byte char\n",
    "     (\"sum\", c_ushort, 16), # 2 byte unsigned short\n",
    "     (\"src\", c_uint32, 32), # 4 byte unsigned int\n",
    "     (\"dst\", c_uint32, 32) # 4 byte unsigned int\n",
    "    ]\n",
    "    \n",
    "    def __new__(cls, socket_buffer=None):\n",
    "        return cls.from_buffer_copy(socket_buffer)\n",
    "    def __init__(self, socket_buffer=None):\n",
    "        # human readable IP addresses\n",
    "        self.src_address = socket.inet_ntoa(struct.pack(\"<L\",self.src))\n",
    "        self.dst_address = socket.inet_ntoa(struct.pack(\"<L\",self.dst))"
   ]
  },
  {
   "cell_type": "code",
   "execution_count": null,
   "id": "9f5ab54a",
   "metadata": {},
   "outputs": [],
   "source": []
  }
 ],
 "metadata": {
  "kernelspec": {
   "display_name": "Python 3 (ipykernel)",
   "language": "python",
   "name": "python3"
  },
  "language_info": {
   "codemirror_mode": {
    "name": "ipython",
    "version": 3
   },
   "file_extension": ".py",
   "mimetype": "text/x-python",
   "name": "python",
   "nbconvert_exporter": "python",
   "pygments_lexer": "ipython3",
   "version": "3.9.13"
  }
 },
 "nbformat": 4,
 "nbformat_minor": 5
}
